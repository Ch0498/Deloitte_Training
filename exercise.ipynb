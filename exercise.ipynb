{
 "cells": [
  {
   "cell_type": "code",
   "execution_count": null,
   "metadata": {},
   "outputs": [],
   "source": [
    "#1.Calculation"
   ]
  },
  {
   "cell_type": "code",
   "execution_count": 2,
   "metadata": {},
   "outputs": [
    {
     "name": "stdout",
     "output_type": "stream",
     "text": [
      "enter first number: 67\n",
      "enter second number: 78\n",
      "Sum of a and b is  145\n",
      "Average of a and b is  72\n"
     ]
    }
   ],
   "source": [
    "a = eval(input('enter first number: '))\n",
    "\n",
    "b = eval(input('enter second number: '))\n",
    "\n",
    "sum = a + b\n",
    "\n",
    "average = (a + b)/2\n",
    "\n",
    "print('Sum of a and b is ', sum)\n",
    "print('Average of a and b is ', round(average))"
   ]
  },
  {
   "cell_type": "code",
   "execution_count": 3,
   "metadata": {},
   "outputs": [],
   "source": [
    "#2.List Operations"
   ]
  },
  {
   "cell_type": "code",
   "execution_count": 9,
   "metadata": {},
   "outputs": [
    {
     "data": {
      "text/plain": [
       "[1, 54, 34, 5, 33, 2, 3, 4, 5]"
      ]
     },
     "execution_count": 9,
     "metadata": {},
     "output_type": "execute_result"
    }
   ],
   "source": [
    "list1 = [1, 54, 34, 5, 33, 2, 3, 4]\n",
    "\n",
    "list1.append(5)\n",
    "\n",
    "list1"
   ]
  },
  {
   "cell_type": "code",
   "execution_count": 10,
   "metadata": {},
   "outputs": [],
   "source": [
    "list2 = []"
   ]
  },
  {
   "cell_type": "code",
   "execution_count": 12,
   "metadata": {},
   "outputs": [],
   "source": [
    "for item in list1:\n",
    "    if item < 5:\n",
    "        list2.append(item)"
   ]
  },
  {
   "cell_type": "code",
   "execution_count": 13,
   "metadata": {},
   "outputs": [
    {
     "data": {
      "text/plain": [
       "[1, 2, 3, 4]"
      ]
     },
     "execution_count": 13,
     "metadata": {},
     "output_type": "execute_result"
    }
   ],
   "source": [
    "list2"
   ]
  },
  {
   "cell_type": "code",
   "execution_count": 14,
   "metadata": {},
   "outputs": [],
   "source": [
    "#3. Number Check"
   ]
  },
  {
   "cell_type": "code",
   "execution_count": 15,
   "metadata": {},
   "outputs": [
    {
     "name": "stdout",
     "output_type": "stream",
     "text": [
      "enter any number: 782\n",
      "This is an even integer!\n"
     ]
    }
   ],
   "source": [
    "anynum = eval(input('enter any number: '))\n",
    "\n",
    "if (anynum % 2 == 0) :\n",
    "    print ('This is an even integer!')\n",
    "    \n",
    "else :\n",
    "    print ('This is an odd integer')\n",
    "    \n",
    "if (anynum % 10 == 0):\n",
    "    print ('Woah! This is divisible by 10..')"
   ]
  },
  {
   "cell_type": "code",
   "execution_count": 22,
   "metadata": {},
   "outputs": [],
   "source": [
    "#4. Product Calculation"
   ]
  },
  {
   "cell_type": "code",
   "execution_count": 23,
   "metadata": {},
   "outputs": [
    {
     "name": "stdout",
     "output_type": "stream",
     "text": [
      "Enter first value: 52\n",
      "Enter second value: 25\n",
      "The product of  52 and  25 is 1300 . And by the way their sum will be  77\n"
     ]
    }
   ],
   "source": [
    "int1 = eval(input('Enter first value: '))\n",
    "\n",
    "int2 = eval(input('Enter second value: '))\n",
    "\n",
    "product = int1 * int2\n",
    "\n",
    "if (product > 500) :\n",
    "    print('The product of ', int1, 'and ', int2,  'is', product, '. And by the way their sum will be ', int1 + int2)\n",
    "    \n",
    "else :\n",
    "    print('The product of ', int1, 'and ', int2,  'is', product)"
   ]
  },
  {
   "cell_type": "code",
   "execution_count": 24,
   "metadata": {},
   "outputs": [],
   "source": [
    "#5."
   ]
  },
  {
   "cell_type": "code",
   "execution_count": 38,
   "metadata": {},
   "outputs": [
    {
     "name": "stdout",
     "output_type": "stream",
     "text": [
      "9\n",
      "11\n",
      "13\n",
      "15\n",
      "17\n",
      "19\n",
      "21\n",
      "23\n",
      "25\n",
      "27\n",
      "29\n",
      "31\n",
      "33\n",
      "35\n",
      "37\n",
      "39\n"
     ]
    }
   ],
   "source": [
    "lista = range(4,21)\n",
    "\n",
    "for i in lista:\n",
    "    \n",
    "    if (i == 4):\n",
    "        continue;\n",
    "    print (i+(i-1))\n",
    "    \n",
    "   \n",
    "    "
   ]
  },
  {
   "cell_type": "code",
   "execution_count": 39,
   "metadata": {},
   "outputs": [],
   "source": [
    "#6. VowelTest"
   ]
  },
  {
   "cell_type": "code",
   "execution_count": 41,
   "metadata": {},
   "outputs": [
    {
     "name": "stdout",
     "output_type": "stream",
     "text": [
      "Enter any lettery\n",
      "The letter you gave is  y\n"
     ]
    }
   ],
   "source": [
    "anyletter = input('Enter any letter')\n",
    "\n",
    "if (anyletter == 'a' or anyletter == 'e' or anyletter == 'i' or anyletter == 'o' or anyletter == 'u'):\n",
    "    print('The letter that you have input is an vowel')\n",
    "    \n",
    "else :\n",
    "    print('The letter you gave is ', anyletter)\n",
    "\n"
   ]
  },
  {
   "cell_type": "code",
   "execution_count": 42,
   "metadata": {},
   "outputs": [],
   "source": [
    "#7. Playing With Name"
   ]
  },
  {
   "cell_type": "code",
   "execution_count": 44,
   "metadata": {},
   "outputs": [],
   "source": [
    "# anyname = input('Enter your Name: ')\n",
    "\n",
    "# for n in anyname:"
   ]
  },
  {
   "cell_type": "code",
   "execution_count": 45,
   "metadata": {},
   "outputs": [],
   "source": [
    "#8."
   ]
  },
  {
   "cell_type": "code",
   "execution_count": 48,
   "metadata": {},
   "outputs": [
    {
     "name": "stdout",
     "output_type": "stream",
     "text": [
      "Give a number: 425\n",
      "The number you gave is odd type\n",
      "Given number is indivisible by 10 by luck\n"
     ]
    }
   ],
   "source": [
    "number = eval(input('Give a number: '))\n",
    "\n",
    "if (number % 2 == 0):\n",
    "    print('The number you gave is even')\n",
    "    \n",
    "else:\n",
    "    print('The number you gave is odd type')\n",
    "    \n",
    "if (number % 10 == 0):\n",
    "    print('Your number is divisible by 10 and the result after dividing by 10 is ', number/10)\n",
    "    \n",
    "else:\n",
    "    print('Given number is indivisible by 10 by luck')"
   ]
  },
  {
   "cell_type": "code",
   "execution_count": 49,
   "metadata": {},
   "outputs": [],
   "source": [
    "#9. Iteration of numbers"
   ]
  },
  {
   "cell_type": "code",
   "execution_count": 58,
   "metadata": {},
   "outputs": [
    {
     "name": "stdout",
     "output_type": "stream",
     "text": [
      "The elements divisible by 10 are: \n",
      "50\n",
      "40\n",
      "20\n"
     ]
    }
   ],
   "source": [
    "listnum = [ 1,23,50,40,20 ]\n",
    "\n",
    "print(\"The elements divisible by 10 are: \")\n",
    "\n",
    "for i in listnum:\n",
    "    \n",
    "    \n",
    "    if i%10 == 0:\n",
    "        print(i)\n",
    "\n"
   ]
  },
  {
   "cell_type": "code",
   "execution_count": 59,
   "metadata": {},
   "outputs": [
    {
     "name": "stdout",
     "output_type": "stream",
     "text": [
      "The first indexed and last indexed integer values are same!\n"
     ]
    }
   ],
   "source": [
    "listint = [1,22,24,43, 1]\n",
    "\n",
    "if listint[0] == listint[-1]:\n",
    "    print('The first indexed and last indexed integer values are same!')\n",
    "    \n",
    "else:\n",
    "    print('The first and last indexed integers are not same!')"
   ]
  },
  {
   "cell_type": "code",
   "execution_count": 61,
   "metadata": {},
   "outputs": [
    {
     "data": {
      "text/plain": [
       "\"I'm_lost!\""
      ]
     },
     "execution_count": 61,
     "metadata": {},
     "output_type": "execute_result"
    }
   ],
   "source": [
    "strtorep = \"I'm lost!\"\n",
    "\n",
    "strtorep.replace(' ', '_')"
   ]
  },
  {
   "cell_type": "code",
   "execution_count": 62,
   "metadata": {},
   "outputs": [
    {
     "name": "stdout",
     "output_type": "stream",
     "text": [
      "This is palindrome\n"
     ]
    }
   ],
   "source": [
    "anystring = \"racecar\"\n",
    "\n",
    "duplicate = anystring[::-1]\n",
    "\n",
    "if duplicate == anystring:\n",
    "    print ('This is palindrome')\n",
    "else:\n",
    "    print ('This is not a palindrome')\n",
    "\n"
   ]
  },
  {
   "cell_type": "code",
   "execution_count": 63,
   "metadata": {},
   "outputs": [],
   "source": [
    "#fibonacci series"
   ]
  },
  {
   "cell_type": "code",
   "execution_count": 70,
   "metadata": {},
   "outputs": [
    {
     "name": "stdout",
     "output_type": "stream",
     "text": [
      "How many terms? 13\n",
      "Fibonacci sequence:\n",
      "0\n",
      "1\n",
      "1\n",
      "2\n",
      "3\n",
      "5\n",
      "8\n",
      "13\n",
      "21\n",
      "34\n",
      "55\n",
      "89\n",
      "144\n"
     ]
    }
   ],
   "source": [
    "nterms = int(input(\"How many terms? \"))\n",
    "# first two terms\n",
    "n1, n2 = 0, 1\n",
    "count = 0\n",
    "# check if the number of terms is valid\n",
    "if nterms <= 0:\n",
    "   print(\"Please enter a positive integer\")\n",
    "elif nterms == 1:\n",
    "   print(\"Fibonacci sequence upto\",nterms,\":\")\n",
    "   print(n1)\n",
    "else:\n",
    "   print(\"Fibonacci sequence:\")\n",
    "   while count < nterms:\n",
    "       print(n1)\n",
    "       nth = n1 + n2\n",
    "       # update values\n",
    "       n1 = n2\n",
    "       n2 = nth\n",
    "       count += 1"
   ]
  },
  {
   "cell_type": "code",
   "execution_count": 76,
   "metadata": {},
   "outputs": [
    {
     "name": "stdout",
     "output_type": "stream",
     "text": [
      "indian\n"
     ]
    }
   ],
   "source": [
    "stra = 'inan'\n",
    "strb = 'di'\n",
    "\n",
    "strnew = stra[:len(stra)//2] + strb + stra[len(stra)//2 :]\n",
    "\n",
    "\n",
    "print(strnew)"
   ]
  },
  {
   "cell_type": "code",
   "execution_count": null,
   "metadata": {},
   "outputs": [],
   "source": []
  }
 ],
 "metadata": {
  "kernelspec": {
   "display_name": "Python 3",
   "language": "python",
   "name": "python3"
  },
  "language_info": {
   "codemirror_mode": {
    "name": "ipython",
    "version": 3
   },
   "file_extension": ".py",
   "mimetype": "text/x-python",
   "name": "python",
   "nbconvert_exporter": "python",
   "pygments_lexer": "ipython3",
   "version": "3.7.4"
  }
 },
 "nbformat": 4,
 "nbformat_minor": 2
}
