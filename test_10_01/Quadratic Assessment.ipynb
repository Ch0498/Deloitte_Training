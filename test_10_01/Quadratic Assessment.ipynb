{
 "cells": [
  {
   "cell_type": "code",
   "execution_count": 2,
   "metadata": {},
   "outputs": [],
   "source": [
    "import math"
   ]
  },
  {
   "cell_type": "code",
   "execution_count": 4,
   "metadata": {},
   "outputs": [],
   "source": [
    "def coefficients(eq):\n",
    "    \n",
    "    c=0\n",
    "    split=eq.split(\"=\")       #Splitting the equation\n",
    "    \n",
    "    c=c+int(split[1])\n",
    "    split2=split[0].split(\"+\")   #Further splitting the equation\n",
    "    a=b=0\n",
    "    \n",
    "    c=c+int(split2[2])           #Assigning value to c\n",
    "    split3=split2[0].split('x')\n",
    "    \n",
    "     #Checking for coeff '1'\n",
    "    if split3[0]=='':      \n",
    "        a=1\n",
    "    else:\n",
    "        a=int(split3[0])      #Assigning value to a\n",
    "        \n",
    "    split4=split2[1].split('x')\n",
    "    \n",
    "    #Checking for coeff '1'\n",
    "    \n",
    "    if split4[0]=='':\n",
    "        b=1\n",
    "    else:\n",
    "        b=int(split4[0])      #Assgning value to b\n",
    "        \n",
    "        \n",
    "    return a,b,c    \n",
    "    \n",
    "    "
   ]
  },
  {
   "cell_type": "code",
   "execution_count": 7,
   "metadata": {},
   "outputs": [
    {
     "name": "stdout",
     "output_type": "stream",
     "text": [
      "2x2+4x+10=0\n",
      "First root is (-1-16j)\n",
      "Second root is (-1+16j)\n"
     ]
    }
   ],
   "source": [
    "def printRoots(a,b,c):\n",
    "    \"\"\"Prints the root of a quadratic equation given coefficients\"\"\"\n",
    "    det=((b*b)-(4*a*c)) #Calculating determinent\n",
    "    \n",
    "    if det<0:\n",
    "        root1=(complex(-b,det)/(2*a))\n",
    "        root2=(complex(-b,-det)/(2*a))\n",
    "    else:\n",
    "        root1=(-b+math.sqrt((b*b)-(4*a*c)))/(2*a)\n",
    "        root2=(-b-math.sqrt((b*b)-(4*a*c)))/(2*a)\n",
    "        \n",
    "    \n",
    "    print('First root is',root1)\n",
    "    print('Second root is',root2)    \n",
    "    \n",
    "    \n",
    "eq = input()\n",
    "a,b,c= coefficients(eq)\n",
    "printRoots(a,b,c)\n"
   ]
  },
  {
   "cell_type": "code",
   "execution_count": null,
   "metadata": {},
   "outputs": [],
   "source": []
  }
 ],
 "metadata": {
  "kernelspec": {
   "display_name": "Python 3",
   "language": "python",
   "name": "python3"
  },
  "language_info": {
   "codemirror_mode": {
    "name": "ipython",
    "version": 3
   },
   "file_extension": ".py",
   "mimetype": "text/x-python",
   "name": "python",
   "nbconvert_exporter": "python",
   "pygments_lexer": "ipython3",
   "version": "3.7.4"
  }
 },
 "nbformat": 4,
 "nbformat_minor": 2
}
