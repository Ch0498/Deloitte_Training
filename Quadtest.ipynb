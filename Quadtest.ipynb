{
 "cells": [
  {
   "cell_type": "code",
   "execution_count": null,
   "metadata": {},
   "outputs": [],
   "source": [
    "#\n",
    "\n",
    "# Taking an input from user..\n",
    "\n",
    "# impose it into quadratic equation\n",
    "\n",
    "# and get the root of the equation.\n",
    "\n",
    "\n",
    "\n",
    "#"
   ]
  },
  {
   "cell_type": "code",
   "execution_count": 14,
   "metadata": {},
   "outputs": [
    {
     "name": "stdout",
     "output_type": "stream",
     "text": [
      "Enter first value: 25\n",
      "Enter second value: 20\n",
      "Enter third value: 12\n",
      "The value of b^2 - 4ac is  -800\n",
      "The first root is : (-0.4-0.565685424949238j)\n",
      "The second root is : (-0.4+0.565685424949238j)\n"
     ]
    }
   ],
   "source": [
    "import cmath  #cmath is the library with mathematical functions in python\n",
    "\n",
    "a = eval(input('Enter first value: '))\n",
    "b = eval(input('Enter second value: '))\n",
    "c = eval(input('Enter third value: '))\n",
    "\n",
    "\n",
    "# calculate b^2 - 4ac\n",
    "\n",
    "d = (b**2) - (4*a*c)\n",
    "\n",
    "# calculate the roots\n",
    "\n",
    "sqrt1 = ((-b) - cmath.sqrt(d)) / (2*a)\n",
    "\n",
    "sqrt2 = ((-b) + cmath.sqrt(d)) / (2*a)\n",
    "\n",
    "\n",
    "print ('The value of b^2 - 4ac is ', d)\n",
    "\n",
    "print ('The first root is :', sqrt1)\n",
    "print ('The second root is :', sqrt2)"
   ]
  }
 ],
 "metadata": {
  "kernelspec": {
   "display_name": "Python 3",
   "language": "python",
   "name": "python3"
  },
  "language_info": {
   "codemirror_mode": {
    "name": "ipython",
    "version": 3
   },
   "file_extension": ".py",
   "mimetype": "text/x-python",
   "name": "python",
   "nbconvert_exporter": "python",
   "pygments_lexer": "ipython3",
   "version": "3.7.4"
  }
 },
 "nbformat": 4,
 "nbformat_minor": 2
}
